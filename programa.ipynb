{
  "nbformat": 4,
  "nbformat_minor": 0,
  "metadata": {
    "colab": {
      "provenance": []
    },
    "kernelspec": {
      "name": "python3",
      "display_name": "Python 3"
    },
    "language_info": {
      "name": "python"
    }
  },
  "cells": [
    {
      "cell_type": "markdown",
      "source": [
        "Criar um programa em phyton que gera aleatoriamente um numero entre 1 e 100, e pede para que o usuario adivinhe o numero gerado utilizando as estruturas que foi dada em aula... O usuario terá 10 tentativas, caso não consiga acertar deverá exibir uma mensagem de insucesso, caso contrario deverá exibir uma mensagem de sucesso\n"
      ],
      "metadata": {
        "id": "WGBFBWkqkWW0"
      }
    },
    {
      "cell_type": "code",
      "source": [
        "import random\n",
        "numero = random.randint(1,100)\n",
        "contador = 0\n",
        "usuario = int(input(\"Advinhe o numero gerado aleatoriamnte: \"))\n",
        "while contador < 9:\n",
        "  contador += 1\n",
        "  usuario = int(input(\"Advinhe o numero gerado aleatoriamnte: \"))\n",
        "if usuario != numero:\n",
        "   print(\"Nao acertou :( \")\n",
        "   print(f\"O numero aleatorio é {numero}\")\n",
        "else:\n",
        "   print(f\"Parabens,voce acertou o numero aleatorio :{numero})\")"
      ],
      "metadata": {
        "colab": {
          "base_uri": "https://localhost:8080/"
        },
        "id": "jAbpnO2RrGjO",
        "outputId": "9650f1ea-b13b-4373-b03a-81a613f7a2d9"
      },
      "execution_count": 28,
      "outputs": [
        {
          "output_type": "stream",
          "name": "stdout",
          "text": [
            "Advinhe o numero gerado aleatoriamnte: 58\n",
            "Advinhe o numero gerado aleatoriamnte: 15\n",
            "Advinhe o numero gerado aleatoriamnte: 2\n",
            "Advinhe o numero gerado aleatoriamnte: 3\n",
            "Advinhe o numero gerado aleatoriamnte: 16\n",
            "Advinhe o numero gerado aleatoriamnte: 79\n",
            "Advinhe o numero gerado aleatoriamnte: 45\n",
            "Advinhe o numero gerado aleatoriamnte: 16\n",
            "Advinhe o numero gerado aleatoriamnte: 1\n",
            "Advinhe o numero gerado aleatoriamnte: 3\n",
            "Nao acertou :( \n",
            "O numero aleatorio é 66\n"
          ]
        }
      ]
    }
  ]
}